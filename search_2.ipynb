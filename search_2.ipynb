{
  "nbformat": 4,
  "nbformat_minor": 0,
  "metadata": {
    "colab": {
      "provenance": [],
      "authorship_tag": "ABX9TyN08i3dHP+l9vuX7E8sSPCR",
      "include_colab_link": true
    },
    "kernelspec": {
      "name": "python3",
      "display_name": "Python 3"
    },
    "language_info": {
      "name": "python"
    }
  },
  "cells": [
    {
      "cell_type": "markdown",
      "metadata": {
        "id": "view-in-github",
        "colab_type": "text"
      },
      "source": [
        "<a href=\"https://colab.research.google.com/github/pranjal-tiwarigithub/AIML/blob/main/search_2.ipynb\" target=\"_parent\"><img src=\"https://colab.research.google.com/assets/colab-badge.svg\" alt=\"Open In Colab\"/></a>"
      ]
    },
    {
      "cell_type": "code",
      "execution_count": 36,
      "metadata": {
        "id": "EdnrARBYsYZw"
      },
      "outputs": [],
      "source": [
        "class TransportationProblem(object):\n",
        "  def __init__(self,N):\n",
        "    # N=number of blocks\n",
        "    self.N = N\n",
        "  \n",
        "  def startState(self):\n",
        "    return 1\n",
        "  \n",
        "  def isend(self,state):\n",
        "    return state == self.N\n",
        "\n",
        "  def succAndcost(self, state):\n",
        "    # returns list containg tuples having 9action , newstate , cost) \n",
        "    result = []\n",
        "    if state + 1 <= self.N:\n",
        "      result.append(('walk' , state + 1 , 1))\n",
        "      #print(result)\n",
        "    if state*2<=self.N:\n",
        "      result.append(('tram' , state*2 , 2))\n",
        "      #print(result)\n",
        "    return result"
      ]
    },
    {
      "cell_type": "code",
      "source": [
        "problem = TransportationProblem(N=10)"
      ],
      "metadata": {
        "id": "Yzc-ztrjuNSl"
      },
      "execution_count": 37,
      "outputs": []
    },
    {
      "cell_type": "code",
      "source": [
        "problem.succAndcost(3)"
      ],
      "metadata": {
        "colab": {
          "base_uri": "https://localhost:8080/"
        },
        "id": "CqXnQWDeu2S5",
        "outputId": "71ee4fcc-9c68-4bd0-afc7-abcf992e5962"
      },
      "execution_count": 38,
      "outputs": [
        {
          "output_type": "execute_result",
          "data": {
            "text/plain": [
              "[('walk', 4, 1), ('tram', 6, 2)]"
            ]
          },
          "metadata": {},
          "execution_count": 38
        }
      ]
    },
    {
      "cell_type": "code",
      "source": [
        "print(problem.succAndcost(6))"
      ],
      "metadata": {
        "colab": {
          "base_uri": "https://localhost:8080/"
        },
        "id": "I5UWCHQDvRES",
        "outputId": "c54f3666-bd1f-4a92-ce70-8efebe3fd806"
      },
      "execution_count": 39,
      "outputs": [
        {
          "output_type": "stream",
          "name": "stdout",
          "text": [
            "[('walk', 7, 1)]\n"
          ]
        }
      ]
    },
    {
      "cell_type": "markdown",
      "source": [],
      "metadata": {
        "id": "X6hCGn-yCoB4"
      }
    },
    {
      "cell_type": "code",
      "source": [
        "class TransportationProblem(object):\n",
        "  def __init__(self,N):\n",
        "    # N=number of blocks\n",
        "    self.N = N\n",
        "  \n",
        "  def startState(self):\n",
        "    return 1\n",
        "  \n",
        "  def isend(self,state):\n",
        "    return state == self.N\n",
        "\n",
        "  def succAndcost(self, state):\n",
        "    # returns list containg tuples having 9action , newstate , cost) \n",
        "    result = []\n",
        "    if state + 1 <= self.N:\n",
        "      result.append(('walk' , state + 1 , 1))\n",
        "      #print(result)\n",
        "    if state*2<=self.N:\n",
        "      result.append(('tram' , state*2 , 2))\n",
        "      #print(result)\n",
        "    return result"
      ],
      "metadata": {
        "id": "-scT0eBIX1EV"
      },
      "execution_count": 40,
      "outputs": []
    },
    {
      "cell_type": "code",
      "source": [
        "def backtrackingSearch(problem):\n",
        "  best = {\n",
        "      'cost': float('+inf'),\n",
        "      'history': None\n",
        "  }\n",
        "  def recurse(state, history , totalCost):\n",
        "    if problem.isend(state):\n",
        "      if totalCost < best['cost']:\n",
        "        best['cost'] = totalCost\n",
        "        best['history'] = history\n",
        "      return\n",
        "    \n",
        "    for action,newstate,cost in problem.succAndcost(state):\n",
        "      recurse(newstate, history + [(action,newstate,cost)] , totalCost + cost)\n",
        "    \n",
        "    recurse(problem.startState(),history=[], totalcost = 0)\n",
        "\n",
        "    return [best['cost'], best['history']]\n",
        "  \n",
        "\n",
        "\n"
      ],
      "metadata": {
        "id": "DTPtcYPKCtsZ"
      },
      "execution_count": 41,
      "outputs": []
    },
    {
      "cell_type": "code",
      "source": [
        "def printsol(solution):\n",
        "  totalcostcost , history = solution\n",
        "  print(f'totalcost:{totalcostcost}')\n",
        "  for item in history:\n",
        "    print(item)\n"
      ],
      "metadata": {
        "id": "I4SbH0UrGwzS"
      },
      "execution_count": 42,
      "outputs": []
    },
    {
      "cell_type": "code",
      "source": [
        "problem = TransportationProblem(N=10)"
      ],
      "metadata": {
        "id": "xeNvt1B-CukB"
      },
      "execution_count": 43,
      "outputs": []
    },
    {
      "cell_type": "code",
      "source": [
        "problem.succAndcost(3)"
      ],
      "metadata": {
        "colab": {
          "base_uri": "https://localhost:8080/"
        },
        "id": "ocqmTu7LCvkJ",
        "outputId": "30ec00fc-0081-4bd0-d7f4-8eafc3ab055d"
      },
      "execution_count": 44,
      "outputs": [
        {
          "output_type": "execute_result",
          "data": {
            "text/plain": [
              "[('walk', 4, 1), ('tram', 6, 2)]"
            ]
          },
          "metadata": {},
          "execution_count": 44
        }
      ]
    },
    {
      "cell_type": "code",
      "source": [
        "printsol(backtrackingSearch(problem))"
      ],
      "metadata": {
        "colab": {
          "base_uri": "https://localhost:8080/",
          "height": 287
        },
        "id": "tkz110YeC1Z7",
        "outputId": "1eb91831-7fab-400b-e8fe-ec96eb00ed78"
      },
      "execution_count": 45,
      "outputs": [
        {
          "output_type": "error",
          "ename": "TypeError",
          "evalue": "ignored",
          "traceback": [
            "\u001b[0;31m---------------------------------------------------------------------------\u001b[0m",
            "\u001b[0;31mTypeError\u001b[0m                                 Traceback (most recent call last)",
            "\u001b[0;32m<ipython-input-45-f72f29a1869d>\u001b[0m in \u001b[0;36m<module>\u001b[0;34m\u001b[0m\n\u001b[0;32m----> 1\u001b[0;31m \u001b[0mprintsol\u001b[0m\u001b[0;34m(\u001b[0m\u001b[0mbacktrackingSearch\u001b[0m\u001b[0;34m(\u001b[0m\u001b[0mproblem\u001b[0m\u001b[0;34m)\u001b[0m\u001b[0;34m)\u001b[0m\u001b[0;34m\u001b[0m\u001b[0;34m\u001b[0m\u001b[0m\n\u001b[0m",
            "\u001b[0;32m<ipython-input-42-e89f08321ec1>\u001b[0m in \u001b[0;36mprintsol\u001b[0;34m(solution)\u001b[0m\n\u001b[1;32m      1\u001b[0m \u001b[0;32mdef\u001b[0m \u001b[0mprintsol\u001b[0m\u001b[0;34m(\u001b[0m\u001b[0msolution\u001b[0m\u001b[0;34m)\u001b[0m\u001b[0;34m:\u001b[0m\u001b[0;34m\u001b[0m\u001b[0;34m\u001b[0m\u001b[0m\n\u001b[0;32m----> 2\u001b[0;31m   \u001b[0mtotalcostcost\u001b[0m \u001b[0;34m,\u001b[0m \u001b[0mhistory\u001b[0m \u001b[0;34m=\u001b[0m \u001b[0msolution\u001b[0m\u001b[0;34m\u001b[0m\u001b[0;34m\u001b[0m\u001b[0m\n\u001b[0m\u001b[1;32m      3\u001b[0m   \u001b[0mprint\u001b[0m\u001b[0;34m(\u001b[0m\u001b[0;34mf'totalcost:{totalcostcost}'\u001b[0m\u001b[0;34m)\u001b[0m\u001b[0;34m\u001b[0m\u001b[0;34m\u001b[0m\u001b[0m\n\u001b[1;32m      4\u001b[0m   \u001b[0;32mfor\u001b[0m \u001b[0mitem\u001b[0m \u001b[0;32min\u001b[0m \u001b[0mhistory\u001b[0m\u001b[0;34m:\u001b[0m\u001b[0;34m\u001b[0m\u001b[0;34m\u001b[0m\u001b[0m\n\u001b[1;32m      5\u001b[0m     \u001b[0mprint\u001b[0m\u001b[0;34m(\u001b[0m\u001b[0mitem\u001b[0m\u001b[0;34m)\u001b[0m\u001b[0;34m\u001b[0m\u001b[0;34m\u001b[0m\u001b[0m\n",
            "\u001b[0;31mTypeError\u001b[0m: cannot unpack non-iterable NoneType object"
          ]
        }
      ]
    },
    {
      "cell_type": "code",
      "source": [
        "def backtrackingSearch(problem):\n",
        "    # Best found so far\n",
        "    # (technicality: using array because of Python scoping)\n",
        "    bestTotalCost = [float('+inf')]\n",
        "    bestHistory = [None]\n",
        "    def recurse(state, history, totalCost):\n",
        "        # At |state| having undergone |history|, accumulated |totalCost|.\n",
        "        # Explore the rest of the subtree under |state|.\n",
        "        if problem.isend(state):\n",
        "            # Update the best solution so far\n",
        "            if totalCost < bestTotalCost[0]:\n",
        "                bestTotalCost[0] = totalCost\n",
        "                bestHistory[0] = history\n",
        "            return\n",
        "\n",
        "        # Recurse on children\n",
        "        for action, newState, cost in problem.succAndcost(state):\n",
        "            recurse(newState, history + [(action, newState, cost)], totalCost + cost)\n",
        "\n",
        "    recurse(problem.startState(), history=[], totalCost=0)\n",
        "    return (bestTotalCost[0], bestHistory[0])"
      ],
      "metadata": {
        "id": "gk-Y7RJgIz89"
      },
      "execution_count": 46,
      "outputs": []
    },
    {
      "cell_type": "code",
      "source": [
        "printsol(backtrackingSearch(problem))"
      ],
      "metadata": {
        "colab": {
          "base_uri": "https://localhost:8080/"
        },
        "id": "NmlvFy9rI3hS",
        "outputId": "64834665-2bb6-4124-fa9f-1e6f1ca8b016"
      },
      "execution_count": 47,
      "outputs": [
        {
          "output_type": "stream",
          "name": "stdout",
          "text": [
            "totalcost:6\n",
            "('walk', 2, 1)\n",
            "('walk', 3, 1)\n",
            "('walk', 4, 1)\n",
            "('walk', 5, 1)\n",
            "('tram', 10, 2)\n"
          ]
        }
      ]
    },
    {
      "cell_type": "markdown",
      "source": [
        "dynamic progamming"
      ],
      "metadata": {
        "id": "X11jkYriK_o9"
      }
    },
    {
      "cell_type": "code",
      "source": [
        "def dynamicprogamming(problem):\n",
        "  def futurecost(state):\n",
        "    cache ={} # store future value of state\n",
        "\n",
        "    if problem.isend(state):\n",
        "      return 0\n",
        "    if state in cache:\n",
        "      return cache[state]\n",
        "    result = min(cost+futurecost(newstate) for action , newstate , cost in problem.succAndcost(state))\n",
        "    cache[state] = result\n",
        "    return result\n",
        "  return (futurecost(problem.startState()),[])\n"
      ],
      "metadata": {
        "id": "7EluQYL5LBJr"
      },
      "execution_count": 49,
      "outputs": []
    },
    {
      "cell_type": "code",
      "source": [
        "printsol(dynamicprogamming(problem))"
      ],
      "metadata": {
        "colab": {
          "base_uri": "https://localhost:8080/"
        },
        "id": "cpS1wLu6iVKt",
        "outputId": "e8d3798e-95b7-49be-8c55-963b23986496"
      },
      "execution_count": 50,
      "outputs": [
        {
          "output_type": "stream",
          "name": "stdout",
          "text": [
            "totalcost:6\n"
          ]
        }
      ]
    }
  ]
}